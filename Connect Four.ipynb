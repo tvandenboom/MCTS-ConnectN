{
 "cells": [
  {
   "cell_type": "markdown",
   "metadata": {},
   "source": [
    "# Connect Four boardgame AI\n",
    "\n",
    "In this notebook we construct the boardgame \"Connect Four\" as a Python class and implement Monte Carlo Tree Simulation (MCTS) to learn an AI opponent."
   ]
  },
  {
   "cell_type": "code",
   "execution_count": 18,
   "metadata": {},
   "outputs": [],
   "source": [
    "#Import relevant packages\n",
    "\n",
    "import numpy as np\n",
    "import pandas as pd\n",
    "import random\n",
    "import copy\n",
    "import math\n",
    "import matplotlib.pyplot as plt\n",
    "from matplotlib import colors\n",
    "\n",
    "from IPython.display import clear_output"
   ]
  },
  {
   "cell_type": "markdown",
   "metadata": {},
   "source": [
    "## 1. The `ConnectFour` class\n",
    "\n",
    "The following cell implements the `ConnectFour` class; each `ConnectFour` object represents a game of Connect Four.  An object's primary attributes are: a board state `self.board_state`, the turn `self.turn` of the game, the status of the game `self.is_won`, the legal moves the active player can play `self.legal_moves`, and the location of the previous chip's placement `self.last_move`.\n",
    "\n",
    "To play a chip for the active player in column `col`, one issues the `self.play_chip(col)` function."
   ]
  },
  {
   "cell_type": "code",
   "execution_count": 10,
   "metadata": {},
   "outputs": [],
   "source": [
    "class ConnectFour:\n",
    "    win_length = 4\n",
    "    num_rows = 6\n",
    "    num_cols = 7\n",
    "\n",
    "    #Each ConnectFour object is a board_state, which is an array\n",
    "    #of 0's (empty squares), 1's (red chips) and -1's (black chips).\n",
    "    #The red chips are played on even turns (initial turn is turn 0), black chips on odd turns.\n",
    "    def __init__(self):\n",
    "        #On initialization, the board_state is empty, the turn is 0, the game is not won, all moves are legal, and the last move is nonsense.\n",
    "        self.board_state = np.zeros((self.num_rows,self.num_cols), dtype=int)\n",
    "        self.turn = 0\n",
    "        self.is_won = False\n",
    "        self.is_over = False\n",
    "        self.legal_moves = np.arange(7)\n",
    "        self.last_move = (-1,-1)\n",
    "        \n",
    "    def reset(self):\n",
    "        #self.reset resets all the game parameters to their initial state.\n",
    "        self.board_state = np.zeros((self.num_rows,self.num_cols), dtype=int)\n",
    "        self.turn = 0\n",
    "        self.is_won = False\n",
    "        self.is_over = False\n",
    "        self.legal_moves = np.arange(7)\n",
    "        self.last_move = (-1,-1)\n",
    "\n",
    "    def play_chip(self, column):\n",
    "        #First check if the game is over:\n",
    "        if self.is_won == True:\n",
    "            print('The game is over; %s has won.' % self.winner)\n",
    "        elif (self.is_won == False and self.legal_moves.size == 0):\n",
    "            print('The game has ended in a draw.')            \n",
    "        else:\n",
    "            #Player whose turn it is places a chip in column\n",
    "            #Determine whose turn it is:\n",
    "            if self.turn % 2 == 0:\n",
    "                chip = 1\n",
    "            else:\n",
    "                chip = -1\n",
    "\n",
    "            #If suggested move is legal, play the chip in column and go to next turn.\n",
    "            if column in self.legal_moves:\n",
    "                self.last_move = np.amax(np.where(self.board_state[:,column] == 0)),column\n",
    "                self.board_state[self.last_move] = chip\n",
    "                self.turn += 1\n",
    "            else:\n",
    "                print('Column is full; please suggest another move.')\n",
    "\n",
    "\n",
    "            #Check to see if the game has been won:\n",
    "            self.check_win()\n",
    "            \n",
    "            #Redetermine the legal moves in the board_state:\n",
    "            self.legal_moves = np.where(self.board_state[0]==0)[0]\n",
    "            \n",
    "            if self.is_won == True:\n",
    "                print('The game is over; %s wins!' % self.winner)\n",
    "                self.is_over = True\n",
    "            elif (self.is_won == False and self.legal_moves.size == 0):\n",
    "                print('The game has ended in a draw.')\n",
    "                self.is_over = True\n",
    "\n",
    "    def check_win(self):\n",
    "        #Checks for a winning position for both players relative to self.last_move:\n",
    "        y,x = self.last_move\n",
    "\n",
    "        #Check for column wins containing self.last_move (there can be only one):\n",
    "        if (y <= self.num_rows - self.win_length):\n",
    "            sum_temp = 0\n",
    "            for k in range(0,self.win_length):\n",
    "                sum_temp += self.board_state[y+k][x]\n",
    "            if sum_temp == self.win_length:\n",
    "                self.winner = 'Player 1'\n",
    "                self.is_won = True\n",
    "                return\n",
    "            elif sum_temp == -self.win_length:\n",
    "                self.winner = 'Player 2'\n",
    "                self.is_won = True\n",
    "                return\n",
    "\n",
    "        #Check for row wins containing self.last_move:\n",
    "        for i in range(0,self.win_length):\n",
    "            if (x-i <= self.num_cols - self.win_length and x-i >= 0):\n",
    "                sum_temp = 0\n",
    "                for k in range(0,self.win_length):\n",
    "                    sum_temp += self.board_state[y][x-i+k]\n",
    "                if sum_temp == self.win_length:\n",
    "                    self.winner = 'Player 1'\n",
    "                    self.is_won = True\n",
    "                    return\n",
    "                elif sum_temp == -self.win_length:\n",
    "                    self.winner = 'Player 2'\n",
    "                    self.is_won = True\n",
    "                    return\n",
    "\n",
    "        #Check for diagonal \\\\ wins containing self.last_move:\n",
    "        for i in range(0,self.win_length):\n",
    "            if (x-i <= self.num_cols-self.win_length and x-i >=0 and y-i <= self.num_rows - self.win_length and y-i >= 0):\n",
    "                sum_temp = 0\n",
    "                for k in range(0,self.win_length):\n",
    "                    sum_temp += self.board_state[y-i+k][x-i+k]\n",
    "                if sum_temp == self.win_length:\n",
    "                    self.winner = 'Player 1'\n",
    "                    self.is_won = True\n",
    "                    return\n",
    "                elif sum_temp == -self.win_length:\n",
    "                    self.winner = 'Player 2'\n",
    "                    self.is_won = True\n",
    "                    return\n",
    "\n",
    "        #Check for diagonal // wins containing self.last_move:\n",
    "        for i in range(0,self.win_length):\n",
    "            if (x-i <= self.num_cols-self.win_length and x-i >= 0 and y+i > self.num_rows - self.win_length and y+i <= 5):\n",
    "                sum_temp = 0\n",
    "                for k in range(0,self.win_length):\n",
    "                    sum_temp += self.board_state[y+i-k][x-i+k]\n",
    "                if sum_temp == self.win_length:\n",
    "                    self.winner = 'Player 1'\n",
    "                    self.is_won = True\n",
    "                    return\n",
    "                elif sum_temp == -self.win_length:\n",
    "                    self.winner = 'Player 2'\n",
    "                    self.is_won = True\n",
    "                    return"
   ]
  },
  {
   "cell_type": "markdown",
   "metadata": {},
   "source": [
    "We instantiate a sample game and play a few moves below:"
   ]
  },
  {
   "cell_type": "code",
   "execution_count": 15,
   "metadata": {},
   "outputs": [
    {
     "data": {
      "text/plain": [
       "array([[ 0,  0,  0,  0,  0,  0,  0],\n",
       "       [ 0,  0,  0,  0,  0,  0,  0],\n",
       "       [ 0,  0,  0,  0,  0,  0,  0],\n",
       "       [ 0,  0,  0,  0,  0,  0,  0],\n",
       "       [ 1,  0,  0,  0,  0,  0,  0],\n",
       "       [ 1, -1,  0,  0,  0,  0,  0]])"
      ]
     },
     "execution_count": 15,
     "metadata": {},
     "output_type": "execute_result"
    }
   ],
   "source": [
    "game = ConnectFour()\n",
    "\n",
    "game.play_chip(0)\n",
    "game.play_chip(1)\n",
    "game.play_chip(0)\n",
    "\n",
    "game.board_state"
   ]
  },
  {
   "cell_type": "markdown",
   "metadata": {},
   "source": [
    "## 2. A user-friendly implementation\n",
    "\n",
    "Below we create a simple user-friendly implementation, where Python continually requests inputs from players.\n",
    "\n",
    "First, we introduce simple function to display the game's board state:"
   ]
  },
  {
   "cell_type": "code",
   "execution_count": 50,
   "metadata": {},
   "outputs": [],
   "source": [
    "# create discrete colormap\n",
    "cmap = colors.ListedColormap(['k', 'w', 'r'])\n",
    "bounds = [-1,0,1,2]\n",
    "norm = colors.BoundaryNorm(bounds, cmap.N)\n",
    "\n",
    "def plot_matrix(rm, title='Connect Four'):\n",
    "    fig, ax = plt.subplots()\n",
    "    ax.imshow(rm, cmap=cmap, norm=norm)\n",
    "\n",
    "    # draw gridlines\n",
    "    ax.grid(which='major', axis='both', linestyle='-', color='k', linewidth=1)\n",
    "    ax.set_xticks(np.arange(-.5, 7, 1));\n",
    "    ax.set_yticks(np.arange(-.5, 6, 1));\n",
    "    frame1 = plt.gca()\n",
    "    frame1.axes.xaxis.set_ticklabels([])\n",
    "    frame1.axes.yaxis.set_ticklabels([])\n",
    "\n",
    "    plt.show()"
   ]
  },
  {
   "cell_type": "code",
   "execution_count": 52,
   "metadata": {},
   "outputs": [
    {
     "name": "stdout",
     "output_type": "stream",
     "text": [
      "The game is over; Player 2 wins!\n",
      "The final position:\n",
      "\n"
     ]
    },
    {
     "data": {
      "image/png": "[encoded data removed]",
      "text/plain": [
       "<Figure size 432x288 with 1 Axes>"
      ]
     },
     "metadata": {
      "needs_background": "light"
     },
     "output_type": "display_data"
    }
   ],
   "source": [
    "game = ConnectFour()\n",
    "\n",
    "while(game.is_over == False):\n",
    "    plot_matrix(game.board_state)\n",
    "    \n",
    "    current_player = str((game.turn % 2)+1)\n",
    "    print('Player %s, it is your turn.\\n' % current_player)\n",
    "    next_move = int(input('Enter a column (1-7) to play a move:'))-1\n",
    "    if (next_move in game.legal_moves):\n",
    "            game.play_chip(next_move)\n",
    "    else:\n",
    "        print('Please enter a valid command.')\n",
    "    clear_output()\n",
    "\n",
    "if (game.is_won == True):\n",
    "    print('The game is over; %s wins!' % game.winner)\n",
    "elif (game.is_won == False and self.legal_moves.size == 0):\n",
    "    print('The game has ended in a draw.')\n",
    "\n",
    "print('The final position:\\n')\n",
    "plot_matrix(game.board_state)\n",
    "\n",
    "game.reset()"
   ]
  },
  {
   "cell_type": "code",
   "execution_count": null,
   "metadata": {},
   "outputs": [],
   "source": []
  }
 ],
 "metadata": {
  "kernelspec": {
   "display_name": "Python 3",
   "language": "python",
   "name": "python3"
  },
  "language_info": {
   "codemirror_mode": {
    "name": "ipython",
    "version": 3
   },
   "file_extension": ".py",
   "mimetype": "text/x-python",
   "name": "python",
   "nbconvert_exporter": "python",
   "pygments_lexer": "ipython3",
   "version": "3.8.5"
  }
 },
 "nbformat": 4,
 "nbformat_minor": 4
}
